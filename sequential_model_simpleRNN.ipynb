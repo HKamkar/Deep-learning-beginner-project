{
 "cells": [
  {
   "cell_type": "code",
   "execution_count": 7,
   "metadata": {},
   "outputs": [],
   "source": [
    "import yfinance as yf\n",
    "import pandas as pd\n",
    "import tensorflow as tf\n",
    "import numpy as np\n",
    "from keras.models import Sequential\n",
    "from keras.layers import Dense, SimpleRNN\n",
    "from sklearn.preprocessing import MinMaxScaler\n",
    "from matplotlib import pyplot as plt"
   ]
  },
  {
   "cell_type": "code",
   "execution_count": 8,
   "metadata": {},
   "outputs": [],
   "source": [
    "tickers = 'GC=F'\n",
    "period = '6mo'\n",
    "interval = '1m'"
   ]
  },
  {
   "cell_type": "code",
   "execution_count": 9,
   "metadata": {},
   "outputs": [
    {
     "name": "stdout",
     "output_type": "stream",
     "text": [
      "[*********************100%***********************]  1 of 1 completed\n"
     ]
    }
   ],
   "source": [
    "data = yf.download('TSLA', start='2012-01-01', end='2022-07-24',interval='1d', auto_adjust= True, prepost = True)"
   ]
  },
  {
   "cell_type": "code",
   "execution_count": 10,
   "metadata": {},
   "outputs": [
    {
     "data": {
      "text/html": [
       "<div>\n",
       "<style scoped>\n",
       "    .dataframe tbody tr th:only-of-type {\n",
       "        vertical-align: middle;\n",
       "    }\n",
       "\n",
       "    .dataframe tbody tr th {\n",
       "        vertical-align: top;\n",
       "    }\n",
       "\n",
       "    .dataframe thead th {\n",
       "        text-align: right;\n",
       "    }\n",
       "</style>\n",
       "<table border=\"1\" class=\"dataframe\">\n",
       "  <thead>\n",
       "    <tr style=\"text-align: right;\">\n",
       "      <th></th>\n",
       "      <th>Open</th>\n",
       "      <th>High</th>\n",
       "      <th>Low</th>\n",
       "      <th>Close</th>\n",
       "      <th>Volume</th>\n",
       "    </tr>\n",
       "    <tr>\n",
       "      <th>Date</th>\n",
       "      <th></th>\n",
       "      <th></th>\n",
       "      <th></th>\n",
       "      <th></th>\n",
       "      <th></th>\n",
       "    </tr>\n",
       "  </thead>\n",
       "  <tbody>\n",
       "    <tr>\n",
       "      <th>2012-01-03</th>\n",
       "      <td>5.788000</td>\n",
       "      <td>5.900000</td>\n",
       "      <td>5.530000</td>\n",
       "      <td>5.616000</td>\n",
       "      <td>4640500</td>\n",
       "    </tr>\n",
       "    <tr>\n",
       "      <th>2012-01-04</th>\n",
       "      <td>5.642000</td>\n",
       "      <td>5.734000</td>\n",
       "      <td>5.500000</td>\n",
       "      <td>5.542000</td>\n",
       "      <td>3150500</td>\n",
       "    </tr>\n",
       "    <tr>\n",
       "      <th>2012-01-05</th>\n",
       "      <td>5.552000</td>\n",
       "      <td>5.586000</td>\n",
       "      <td>5.370000</td>\n",
       "      <td>5.424000</td>\n",
       "      <td>5027500</td>\n",
       "    </tr>\n",
       "    <tr>\n",
       "      <th>2012-01-06</th>\n",
       "      <td>5.440000</td>\n",
       "      <td>5.558000</td>\n",
       "      <td>5.282000</td>\n",
       "      <td>5.382000</td>\n",
       "      <td>4931500</td>\n",
       "    </tr>\n",
       "    <tr>\n",
       "      <th>2012-01-09</th>\n",
       "      <td>5.400000</td>\n",
       "      <td>5.498000</td>\n",
       "      <td>5.224000</td>\n",
       "      <td>5.450000</td>\n",
       "      <td>4485000</td>\n",
       "    </tr>\n",
       "    <tr>\n",
       "      <th>...</th>\n",
       "      <td>...</td>\n",
       "      <td>...</td>\n",
       "      <td>...</td>\n",
       "      <td>...</td>\n",
       "      <td>...</td>\n",
       "    </tr>\n",
       "    <tr>\n",
       "      <th>2022-07-18</th>\n",
       "      <td>734.809998</td>\n",
       "      <td>751.549988</td>\n",
       "      <td>718.809998</td>\n",
       "      <td>721.640015</td>\n",
       "      <td>27512500</td>\n",
       "    </tr>\n",
       "    <tr>\n",
       "      <th>2022-07-19</th>\n",
       "      <td>735.000000</td>\n",
       "      <td>741.419983</td>\n",
       "      <td>710.929993</td>\n",
       "      <td>736.590027</td>\n",
       "      <td>26963400</td>\n",
       "    </tr>\n",
       "    <tr>\n",
       "      <th>2022-07-20</th>\n",
       "      <td>740.349976</td>\n",
       "      <td>751.989990</td>\n",
       "      <td>730.450012</td>\n",
       "      <td>742.500000</td>\n",
       "      <td>29621400</td>\n",
       "    </tr>\n",
       "    <tr>\n",
       "      <th>2022-07-21</th>\n",
       "      <td>765.320007</td>\n",
       "      <td>819.799988</td>\n",
       "      <td>764.599976</td>\n",
       "      <td>815.119995</td>\n",
       "      <td>47344100</td>\n",
       "    </tr>\n",
       "    <tr>\n",
       "      <th>2022-07-22</th>\n",
       "      <td>828.659973</td>\n",
       "      <td>842.359985</td>\n",
       "      <td>812.140015</td>\n",
       "      <td>816.729980</td>\n",
       "      <td>34421200</td>\n",
       "    </tr>\n",
       "  </tbody>\n",
       "</table>\n",
       "<p>2656 rows × 5 columns</p>\n",
       "</div>"
      ],
      "text/plain": [
       "                  Open        High         Low       Close    Volume\n",
       "Date                                                                \n",
       "2012-01-03    5.788000    5.900000    5.530000    5.616000   4640500\n",
       "2012-01-04    5.642000    5.734000    5.500000    5.542000   3150500\n",
       "2012-01-05    5.552000    5.586000    5.370000    5.424000   5027500\n",
       "2012-01-06    5.440000    5.558000    5.282000    5.382000   4931500\n",
       "2012-01-09    5.400000    5.498000    5.224000    5.450000   4485000\n",
       "...                ...         ...         ...         ...       ...\n",
       "2022-07-18  734.809998  751.549988  718.809998  721.640015  27512500\n",
       "2022-07-19  735.000000  741.419983  710.929993  736.590027  26963400\n",
       "2022-07-20  740.349976  751.989990  730.450012  742.500000  29621400\n",
       "2022-07-21  765.320007  819.799988  764.599976  815.119995  47344100\n",
       "2022-07-22  828.659973  842.359985  812.140015  816.729980  34421200\n",
       "\n",
       "[2656 rows x 5 columns]"
      ]
     },
     "execution_count": 10,
     "metadata": {},
     "output_type": "execute_result"
    }
   ],
   "source": [
    "data"
   ]
  },
  {
   "cell_type": "code",
   "execution_count": 11,
   "metadata": {},
   "outputs": [
    {
     "data": {
      "text/plain": [
       "<AxesSubplot:xlabel='Date'>"
      ]
     },
     "execution_count": 11,
     "metadata": {},
     "output_type": "execute_result"
    },
    {
     "data": {
      "image/png": "[encoded data removed]",
      "text/plain": [
       "<Figure size 432x288 with 1 Axes>"
      ]
     },
     "metadata": {
      "needs_background": "light"
     },
     "output_type": "display_data"
    }
   ],
   "source": [
    "data.Close.plot()"
   ]
  },
  {
   "cell_type": "code",
   "execution_count": 12,
   "metadata": {},
   "outputs": [
    {
     "data": {
      "text/plain": [
       "(2656, 5)"
      ]
     },
     "execution_count": 12,
     "metadata": {},
     "output_type": "execute_result"
    }
   ],
   "source": [
    "data.shape"
   ]
  },
  {
   "cell_type": "code",
   "execution_count": 13,
   "metadata": {},
   "outputs": [],
   "source": [
    "def ts_data(data, x_steps, y_steps):\n",
    "    #Split train and test data by date\n",
    "    train_data = data[:'2021'].Close.values.reshape(-1,1)\n",
    "    test_data = data['2022':].Close.values.reshape(-1,1)\n",
    "    #Normolize train data\n",
    "    sc = MinMaxScaler(feature_range=(0,1))\n",
    "    train_data_scaled = sc.fit_transform(train_data)\n",
    "    \n",
    "    x_train = []\n",
    "    y_train = []\n",
    "    \n",
    "    for i in range(x_steps, len(train_data_scaled) - 1):\n",
    "        x_train.append(train_data_scaled[i-x_steps:i, 0])\n",
    "        y_train.append(train_data_scaled[i:i+y_steps, 0])\n",
    "        \n",
    "    x_train = np.array(x_train)\n",
    "    y_train = np.array(y_train)\n",
    "    \n",
    "    x_train = x_train.reshape(x_train.shape[0], x_train.shape[1], 1)\n",
    "\n",
    "    #assemble test data\n",
    "    x = data.Close.values\n",
    "    x = x[len(x) - len(test_data) - x_steps:] \n",
    "    x = x.reshape(-1,1)\n",
    "    x = sc.transform(x)\n",
    "    \n",
    "    x_test = []\n",
    "    y_test = []\n",
    "    \n",
    "    for i in range(x_steps, len(test_data) + x_steps - y_steps):\n",
    "        x_test.append(x[i-x_steps:i,0])\n",
    "        y_test.append(x[i:i+y_steps,0])\n",
    "        \n",
    "    x_test = np.array(x_test)\n",
    "    x_test = x_test.reshape(x_test.shape[0], x_test.shape[1], 1)\n",
    "    y_test = np.array(y_test)\n",
    "    \n",
    "    return x_train, y_train, x_test, y_test, sc"
   ]
  },
  {
   "cell_type": "code",
   "execution_count": 14,
   "metadata": {},
   "outputs": [],
   "source": [
    "x_train, y_train, x_test, y_test, sc = ts_data(data,6,2)"
   ]
  },
  {
   "cell_type": "markdown",
   "metadata": {},
   "source": [
    "### SimpleRNN-Model"
   ]
  },
  {
   "cell_type": "code",
   "execution_count": 15,
   "metadata": {},
   "outputs": [],
   "source": [
    "simple_rnn_model = Sequential([\n",
    "                                SimpleRNN(50, return_sequences=True),\n",
    "                                SimpleRNN(50),\n",
    "                                Dense(2)\n",
    "                                ])"
   ]
  },
  {
   "cell_type": "code",
   "execution_count": 16,
   "metadata": {},
   "outputs": [],
   "source": [
    "simple_rnn_model.compile(optimizer='adam', loss='mean_squared_error')"
   ]
  },
  {
   "cell_type": "code",
   "execution_count": 17,
   "metadata": {},
   "outputs": [
    {
     "name": "stdout",
     "output_type": "stream",
     "text": [
      "Epoch 1/100\n",
      "71/71 [==============================] - 1s 4ms/step - loss: 8.1851e-04 - val_loss: 0.0072\n",
      "Epoch 2/100\n",
      "71/71 [==============================] - 0s 2ms/step - loss: 1.0287e-04 - val_loss: 0.0064\n",
      "Epoch 3/100\n",
      "71/71 [==============================] - 0s 1ms/step - loss: 1.0490e-04 - val_loss: 0.0063\n",
      "Epoch 4/100\n",
      "71/71 [==============================] - 0s 1ms/step - loss: 1.0726e-04 - val_loss: 0.0023\n",
      "Epoch 5/100\n",
      "71/71 [==============================] - 0s 1ms/step - loss: 7.7060e-05 - val_loss: 0.0026\n",
      "Epoch 6/100\n",
      "71/71 [==============================] - 0s 1ms/step - loss: 5.6243e-05 - val_loss: 0.0023\n",
      "Epoch 7/100\n",
      "71/71 [==============================] - 0s 2ms/step - loss: 7.2626e-05 - val_loss: 0.0015\n",
      "Epoch 8/100\n",
      "71/71 [==============================] - 0s 1ms/step - loss: 6.6225e-05 - val_loss: 0.0023\n",
      "Epoch 9/100\n",
      "71/71 [==============================] - 0s 2ms/step - loss: 6.3001e-05 - val_loss: 0.0013\n",
      "Epoch 10/100\n",
      "71/71 [==============================] - 0s 1ms/step - loss: 5.3174e-05 - val_loss: 0.0020\n",
      "Epoch 11/100\n",
      "71/71 [==============================] - 0s 1ms/step - loss: 4.9627e-05 - val_loss: 0.0010\n",
      "Epoch 12/100\n",
      "71/71 [==============================] - 0s 1ms/step - loss: 7.4636e-05 - val_loss: 0.0023\n",
      "Epoch 13/100\n",
      "71/71 [==============================] - 0s 1ms/step - loss: 8.4604e-05 - val_loss: 0.0040\n",
      "Epoch 14/100\n",
      "71/71 [==============================] - 0s 1ms/step - loss: 4.1477e-05 - val_loss: 0.0011\n",
      "Epoch 15/100\n",
      "71/71 [==============================] - 0s 1ms/step - loss: 3.9856e-05 - val_loss: 0.0011\n",
      "Epoch 16/100\n",
      "71/71 [==============================] - 0s 1ms/step - loss: 5.0952e-05 - val_loss: 0.0013\n",
      "Epoch 17/100\n",
      "71/71 [==============================] - 0s 1ms/step - loss: 6.2908e-05 - val_loss: 0.0015\n",
      "Epoch 18/100\n",
      "71/71 [==============================] - 0s 1ms/step - loss: 4.7703e-05 - val_loss: 0.0012\n",
      "Epoch 19/100\n",
      "71/71 [==============================] - 0s 1ms/step - loss: 5.3780e-05 - val_loss: 0.0025\n",
      "Epoch 20/100\n",
      "71/71 [==============================] - 0s 1ms/step - loss: 6.3369e-05 - val_loss: 0.0011\n",
      "Epoch 21/100\n",
      "71/71 [==============================] - 0s 1ms/step - loss: 3.7609e-05 - val_loss: 0.0010\n",
      "Epoch 22/100\n",
      "71/71 [==============================] - 0s 1ms/step - loss: 3.9228e-05 - val_loss: 0.0018\n",
      "Epoch 23/100\n",
      "71/71 [==============================] - 0s 1ms/step - loss: 4.0422e-05 - val_loss: 0.0011\n",
      "Epoch 24/100\n",
      "71/71 [==============================] - 0s 1ms/step - loss: 4.4035e-05 - val_loss: 0.0013\n",
      "Epoch 25/100\n",
      "71/71 [==============================] - 0s 1ms/step - loss: 4.5811e-05 - val_loss: 0.0016\n",
      "Epoch 26/100\n",
      "71/71 [==============================] - 0s 1ms/step - loss: 4.1924e-05 - val_loss: 0.0011\n",
      "Epoch 27/100\n",
      "71/71 [==============================] - 0s 1ms/step - loss: 4.1927e-05 - val_loss: 0.0011\n",
      "Epoch 28/100\n",
      "71/71 [==============================] - 0s 1ms/step - loss: 4.0280e-05 - val_loss: 0.0017\n",
      "Epoch 29/100\n",
      "71/71 [==============================] - 0s 2ms/step - loss: 4.4056e-05 - val_loss: 0.0011\n",
      "Epoch 30/100\n",
      "71/71 [==============================] - 0s 1ms/step - loss: 4.0372e-05 - val_loss: 9.1190e-04\n",
      "Epoch 31/100\n",
      "71/71 [==============================] - 0s 1ms/step - loss: 4.0916e-05 - val_loss: 0.0015\n",
      "Epoch 32/100\n",
      "71/71 [==============================] - 0s 1ms/step - loss: 3.7226e-05 - val_loss: 9.4871e-04\n",
      "Epoch 33/100\n",
      "71/71 [==============================] - 0s 1ms/step - loss: 4.0954e-05 - val_loss: 0.0010\n",
      "Epoch 34/100\n",
      "71/71 [==============================] - 0s 1ms/step - loss: 4.2723e-05 - val_loss: 0.0027\n",
      "Epoch 35/100\n",
      "71/71 [==============================] - 0s 1ms/step - loss: 4.3093e-05 - val_loss: 0.0012\n",
      "Epoch 36/100\n",
      "71/71 [==============================] - 0s 2ms/step - loss: 3.7955e-05 - val_loss: 9.8377e-04\n",
      "Epoch 37/100\n",
      "71/71 [==============================] - 0s 1ms/step - loss: 4.0835e-05 - val_loss: 0.0025\n",
      "Epoch 38/100\n",
      "71/71 [==============================] - 0s 1ms/step - loss: 4.3754e-05 - val_loss: 0.0011\n",
      "Epoch 39/100\n",
      "71/71 [==============================] - 0s 1ms/step - loss: 3.6514e-05 - val_loss: 9.1732e-04\n",
      "Epoch 40/100\n",
      "71/71 [==============================] - 0s 2ms/step - loss: 4.1922e-05 - val_loss: 0.0015\n",
      "Epoch 41/100\n",
      "71/71 [==============================] - 0s 1ms/step - loss: 3.7098e-05 - val_loss: 9.2800e-04\n",
      "Epoch 42/100\n",
      "71/71 [==============================] - 0s 1ms/step - loss: 4.6588e-05 - val_loss: 0.0016\n",
      "Epoch 43/100\n",
      "71/71 [==============================] - 0s 1ms/step - loss: 4.1233e-05 - val_loss: 8.7481e-04\n",
      "Epoch 44/100\n",
      "71/71 [==============================] - 0s 1ms/step - loss: 3.8067e-05 - val_loss: 8.5562e-04\n",
      "Epoch 45/100\n",
      "71/71 [==============================] - 0s 1ms/step - loss: 4.1100e-05 - val_loss: 0.0023\n",
      "Epoch 46/100\n",
      "71/71 [==============================] - 0s 1ms/step - loss: 4.3039e-05 - val_loss: 0.0016\n",
      "Epoch 47/100\n",
      "71/71 [==============================] - 0s 1ms/step - loss: 3.9113e-05 - val_loss: 0.0014\n",
      "Epoch 48/100\n",
      "71/71 [==============================] - 0s 1ms/step - loss: 4.3194e-05 - val_loss: 0.0014\n",
      "Epoch 49/100\n",
      "71/71 [==============================] - 0s 1ms/step - loss: 3.8238e-05 - val_loss: 9.4761e-04\n",
      "Epoch 50/100\n",
      "71/71 [==============================] - 0s 2ms/step - loss: 3.4625e-05 - val_loss: 0.0018\n",
      "Epoch 51/100\n",
      "71/71 [==============================] - 0s 1ms/step - loss: 3.9148e-05 - val_loss: 9.2420e-04\n",
      "Epoch 52/100\n",
      "71/71 [==============================] - 0s 1ms/step - loss: 3.6076e-05 - val_loss: 0.0011\n",
      "Epoch 53/100\n",
      "71/71 [==============================] - 0s 1ms/step - loss: 3.6712e-05 - val_loss: 8.8022e-04\n",
      "Epoch 54/100\n",
      "71/71 [==============================] - 0s 1ms/step - loss: 4.5307e-05 - val_loss: 0.0022\n",
      "Epoch 55/100\n",
      "71/71 [==============================] - 0s 1ms/step - loss: 3.9126e-05 - val_loss: 8.7738e-04\n",
      "Epoch 56/100\n",
      "71/71 [==============================] - 0s 1ms/step - loss: 4.7446e-05 - val_loss: 8.9121e-04\n",
      "Epoch 57/100\n",
      "71/71 [==============================] - 0s 1ms/step - loss: 3.5756e-05 - val_loss: 0.0012\n",
      "Epoch 58/100\n",
      "71/71 [==============================] - 0s 1ms/step - loss: 3.7660e-05 - val_loss: 9.8190e-04\n",
      "Epoch 59/100\n",
      "71/71 [==============================] - 0s 1ms/step - loss: 3.6619e-05 - val_loss: 0.0011\n",
      "Epoch 60/100\n",
      "71/71 [==============================] - 0s 1ms/step - loss: 4.2661e-05 - val_loss: 8.9226e-04\n",
      "Epoch 61/100\n",
      "71/71 [==============================] - 0s 1ms/step - loss: 3.9553e-05 - val_loss: 9.8133e-04\n",
      "Epoch 62/100\n",
      "71/71 [==============================] - 0s 1ms/step - loss: 4.3353e-05 - val_loss: 9.4958e-04\n",
      "Epoch 63/100\n",
      "71/71 [==============================] - 0s 1ms/step - loss: 3.4662e-05 - val_loss: 8.5741e-04\n",
      "Epoch 64/100\n",
      "71/71 [==============================] - 0s 1ms/step - loss: 3.7247e-05 - val_loss: 8.4518e-04\n",
      "Epoch 65/100\n",
      "71/71 [==============================] - 0s 1ms/step - loss: 3.7591e-05 - val_loss: 8.8408e-04\n",
      "Epoch 66/100\n",
      "71/71 [==============================] - 0s 1ms/step - loss: 3.8217e-05 - val_loss: 8.5749e-04\n",
      "Epoch 67/100\n",
      "71/71 [==============================] - 0s 1ms/step - loss: 3.4321e-05 - val_loss: 0.0011\n",
      "Epoch 68/100\n",
      "71/71 [==============================] - 0s 1ms/step - loss: 4.4836e-05 - val_loss: 0.0010\n",
      "Epoch 69/100\n",
      "71/71 [==============================] - 0s 1ms/step - loss: 4.1745e-05 - val_loss: 0.0013\n",
      "Epoch 70/100\n",
      "71/71 [==============================] - 0s 1ms/step - loss: 4.1582e-05 - val_loss: 9.7684e-04\n",
      "Epoch 71/100\n",
      "71/71 [==============================] - 0s 1ms/step - loss: 4.3353e-05 - val_loss: 8.9297e-04\n",
      "Epoch 72/100\n",
      "71/71 [==============================] - 0s 1ms/step - loss: 4.1434e-05 - val_loss: 0.0014\n",
      "Epoch 73/100\n",
      "71/71 [==============================] - 0s 1ms/step - loss: 4.2492e-05 - val_loss: 9.4745e-04\n",
      "Epoch 74/100\n",
      "71/71 [==============================] - 0s 1ms/step - loss: 3.6188e-05 - val_loss: 0.0017\n",
      "Epoch 75/100\n",
      "71/71 [==============================] - 0s 1ms/step - loss: 4.2348e-05 - val_loss: 0.0014\n",
      "Epoch 76/100\n",
      "71/71 [==============================] - 0s 1ms/step - loss: 4.6091e-05 - val_loss: 9.7742e-04\n",
      "Epoch 77/100\n",
      "71/71 [==============================] - 0s 1ms/step - loss: 4.3067e-05 - val_loss: 9.4936e-04\n",
      "Epoch 78/100\n",
      "71/71 [==============================] - 0s 1ms/step - loss: 3.4236e-05 - val_loss: 0.0013\n",
      "Epoch 79/100\n",
      "71/71 [==============================] - 0s 1ms/step - loss: 3.6042e-05 - val_loss: 0.0011\n",
      "Epoch 80/100\n",
      "71/71 [==============================] - 0s 1ms/step - loss: 4.1814e-05 - val_loss: 9.0608e-04\n",
      "Epoch 81/100\n",
      "71/71 [==============================] - 0s 1ms/step - loss: 3.6976e-05 - val_loss: 0.0012\n",
      "Epoch 82/100\n",
      "71/71 [==============================] - 0s 1ms/step - loss: 3.8547e-05 - val_loss: 0.0019\n",
      "Epoch 83/100\n",
      "71/71 [==============================] - 0s 1ms/step - loss: 3.6032e-05 - val_loss: 9.0500e-04\n",
      "Epoch 84/100\n",
      "71/71 [==============================] - 0s 1ms/step - loss: 3.9167e-05 - val_loss: 0.0012\n",
      "Epoch 85/100\n",
      "71/71 [==============================] - 0s 1ms/step - loss: 3.8243e-05 - val_loss: 0.0011\n",
      "Epoch 86/100\n",
      "71/71 [==============================] - 0s 1ms/step - loss: 3.7332e-05 - val_loss: 9.5179e-04\n",
      "Epoch 87/100\n",
      "71/71 [==============================] - 0s 1ms/step - loss: 3.6495e-05 - val_loss: 9.1491e-04\n",
      "Epoch 88/100\n",
      "71/71 [==============================] - 0s 1ms/step - loss: 3.5713e-05 - val_loss: 0.0012\n",
      "Epoch 89/100\n",
      "71/71 [==============================] - 0s 1ms/step - loss: 3.2642e-05 - val_loss: 0.0011\n",
      "Epoch 90/100\n",
      "71/71 [==============================] - 0s 1ms/step - loss: 4.1075e-05 - val_loss: 8.8692e-04\n",
      "Epoch 91/100\n",
      "71/71 [==============================] - 0s 1ms/step - loss: 4.1735e-05 - val_loss: 0.0011\n",
      "Epoch 92/100\n",
      "71/71 [==============================] - 0s 1ms/step - loss: 3.6270e-05 - val_loss: 0.0012\n",
      "Epoch 93/100\n",
      "71/71 [==============================] - 0s 2ms/step - loss: 3.9728e-05 - val_loss: 9.0600e-04\n",
      "Epoch 94/100\n",
      "71/71 [==============================] - 0s 1ms/step - loss: 3.7151e-05 - val_loss: 0.0012\n",
      "Epoch 95/100\n",
      "71/71 [==============================] - 0s 1ms/step - loss: 4.0229e-05 - val_loss: 0.0012\n",
      "Epoch 96/100\n",
      "71/71 [==============================] - 0s 1ms/step - loss: 3.7603e-05 - val_loss: 9.8684e-04\n",
      "Epoch 97/100\n",
      "71/71 [==============================] - 0s 1ms/step - loss: 4.0344e-05 - val_loss: 9.2809e-04\n",
      "Epoch 98/100\n",
      "71/71 [==============================] - 0s 1ms/step - loss: 4.3805e-05 - val_loss: 0.0011\n",
      "Epoch 99/100\n",
      "71/71 [==============================] - 0s 1ms/step - loss: 4.1015e-05 - val_loss: 8.9086e-04\n",
      "Epoch 100/100\n",
      "71/71 [==============================] - 0s 1ms/step - loss: 4.1079e-05 - val_loss: 9.9417e-04\n"
     ]
    },
    {
     "data": {
      "text/plain": [
       "<keras.callbacks.History at 0x1bb1ca27c10>"
      ]
     },
     "execution_count": 17,
     "metadata": {},
     "output_type": "execute_result"
    }
   ],
   "source": [
    "simple_rnn_model.fit(x_train, y_train, epochs=100, validation_split=0.1)"
   ]
  },
  {
   "cell_type": "code",
   "execution_count": 18,
   "metadata": {},
   "outputs": [
    {
     "name": "stdout",
     "output_type": "stream",
     "text": [
      "5/5 [==============================] - 0s 0s/step\n"
     ]
    },
    {
     "data": {
      "text/plain": [
       "(137, 2)"
      ]
     },
     "execution_count": 18,
     "metadata": {},
     "output_type": "execute_result"
    }
   ],
   "source": [
    "simple_rnn_pred = simple_rnn_model.predict(x_test)\n",
    "simple_rnn_pred.shape"
   ]
  },
  {
   "cell_type": "code",
   "execution_count": 19,
   "metadata": {},
   "outputs": [],
   "source": [
    "from cProfile import label\n",
    "\n",
    "\n",
    "def prediction_plot(prediction):\n",
    "    fig, ax = plt.subplots()\n",
    "    ax.plot(data['2022':].index[:len(y_test)], sc.inverse_transform(y_test[:, 0].reshape(-1,1)), label='Real')\n",
    "    ax.plot(data['2022':].index[:len(y_test)], sc.inverse_transform(prediction[:, 0].reshape(-1,1)), label='Prediction')"
   ]
  },
  {
   "cell_type": "code",
   "execution_count": 20,
   "metadata": {},
   "outputs": [
    {
     "data": {
      "image/png": "[encoded data removed]",
      "text/plain": [
       "<Figure size 432x288 with 1 Axes>"
      ]
     },
     "metadata": {
      "needs_background": "light"
     },
     "output_type": "display_data"
    }
   ],
   "source": [
    "prediction_plot(simple_rnn_pred)"
   ]
  },
  {
   "cell_type": "code",
   "execution_count": null,
   "metadata": {},
   "outputs": [],
   "source": []
  }
 ],
 "metadata": {
  "kernelspec": {
   "display_name": "Python 3.10.5 64-bit",
   "language": "python",
   "name": "python3"
  },
  "language_info": {
   "codemirror_mode": {
    "name": "ipython",
    "version": 3
   },
   "file_extension": ".py",
   "mimetype": "text/x-python",
   "name": "python",
   "nbconvert_exporter": "python",
   "pygments_lexer": "ipython3",
   "version": "3.10.5"
  },
  "orig_nbformat": 4,
  "vscode": {
   "interpreter": {
    "hash": "91b68b38a89642abfdea3fbb2391097fda687832657446db6536cd4485777202"
   }
  }
 },
 "nbformat": 4,
 "nbformat_minor": 2
}
