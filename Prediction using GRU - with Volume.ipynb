{
 "cells": [
  {
   "cell_type": "code",
   "execution_count": 18,
   "metadata": {},
   "outputs": [],
   "source": [
    "import pandas as pd\n",
    "import numpy as np\n",
    "\n",
    "# For modeling the stocks\n",
    "from sklearn.preprocessing import MinMaxScaler\n",
    "from tensorflow import keras\n",
    "from keras.models import Sequential\n",
    "from keras.layers import Dense, LSTM, GRU\n",
    "\n",
    "import matplotlib.pyplot as plt\n",
    "import seaborn as sns\n",
    "from scipy.stats import norm, probplot, t\n",
    "sns.set_style('whitegrid')\n",
    "plt.style.use(\"fivethirtyeight\")\n",
    "%matplotlib inline\n",
    "\n",
    "# For reading stock data from yahoo\n",
    "from pandas_datareader.data import DataReader\n",
    "import yfinance as yf\n",
    "\n",
    "# For time stamps\n",
    "from datetime import datetime"
   ]
  },
  {
   "cell_type": "markdown",
   "metadata": {},
   "source": [
    "### Predicting the closing price stock price of APPLE inc:"
   ]
  },
  {
   "cell_type": "markdown",
   "metadata": {},
   "source": [
    "### Checking Data"
   ]
  },
  {
   "cell_type": "code",
   "execution_count": 19,
   "metadata": {},
   "outputs": [
    {
     "name": "stdout",
     "output_type": "stream",
     "text": [
      "[*********************100%***********************]  1 of 1 completed\n"
     ]
    },
    {
     "data": {
      "text/html": [
       "<div>\n",
       "<style scoped>\n",
       "    .dataframe tbody tr th:only-of-type {\n",
       "        vertical-align: middle;\n",
       "    }\n",
       "\n",
       "    .dataframe tbody tr th {\n",
       "        vertical-align: top;\n",
       "    }\n",
       "\n",
       "    .dataframe thead th {\n",
       "        text-align: right;\n",
       "    }\n",
       "</style>\n",
       "<table border=\"1\" class=\"dataframe\">\n",
       "  <thead>\n",
       "    <tr style=\"text-align: right;\">\n",
       "      <th></th>\n",
       "      <th>Open</th>\n",
       "      <th>High</th>\n",
       "      <th>Low</th>\n",
       "      <th>Close</th>\n",
       "      <th>Adj Close</th>\n",
       "      <th>Volume</th>\n",
       "    </tr>\n",
       "    <tr>\n",
       "      <th>Datetime</th>\n",
       "      <th></th>\n",
       "      <th></th>\n",
       "      <th></th>\n",
       "      <th></th>\n",
       "      <th></th>\n",
       "      <th></th>\n",
       "    </tr>\n",
       "  </thead>\n",
       "  <tbody>\n",
       "    <tr>\n",
       "      <th>2022-06-06 09:30:00-04:00</th>\n",
       "      <td>147.029999</td>\n",
       "      <td>148.130005</td>\n",
       "      <td>147.029999</td>\n",
       "      <td>147.839996</td>\n",
       "      <td>147.839996</td>\n",
       "      <td>4579829</td>\n",
       "    </tr>\n",
       "    <tr>\n",
       "      <th>2022-06-06 09:35:00-04:00</th>\n",
       "      <td>147.850006</td>\n",
       "      <td>148.020004</td>\n",
       "      <td>147.360001</td>\n",
       "      <td>147.701706</td>\n",
       "      <td>147.701706</td>\n",
       "      <td>1619853</td>\n",
       "    </tr>\n",
       "    <tr>\n",
       "      <th>2022-06-06 09:40:00-04:00</th>\n",
       "      <td>147.699997</td>\n",
       "      <td>148.309998</td>\n",
       "      <td>147.570007</td>\n",
       "      <td>148.014999</td>\n",
       "      <td>148.014999</td>\n",
       "      <td>1808792</td>\n",
       "    </tr>\n",
       "    <tr>\n",
       "      <th>2022-06-06 09:45:00-04:00</th>\n",
       "      <td>148.029999</td>\n",
       "      <td>148.089996</td>\n",
       "      <td>147.149994</td>\n",
       "      <td>147.400696</td>\n",
       "      <td>147.400696</td>\n",
       "      <td>1313489</td>\n",
       "    </tr>\n",
       "    <tr>\n",
       "      <th>2022-06-06 09:50:00-04:00</th>\n",
       "      <td>147.410004</td>\n",
       "      <td>147.699997</td>\n",
       "      <td>147.220001</td>\n",
       "      <td>147.514999</td>\n",
       "      <td>147.514999</td>\n",
       "      <td>982901</td>\n",
       "    </tr>\n",
       "    <tr>\n",
       "      <th>...</th>\n",
       "      <td>...</td>\n",
       "      <td>...</td>\n",
       "      <td>...</td>\n",
       "      <td>...</td>\n",
       "      <td>...</td>\n",
       "      <td>...</td>\n",
       "    </tr>\n",
       "    <tr>\n",
       "      <th>2022-08-04 14:35:00-04:00</th>\n",
       "      <td>165.309998</td>\n",
       "      <td>165.320007</td>\n",
       "      <td>165.160995</td>\n",
       "      <td>165.239899</td>\n",
       "      <td>165.239899</td>\n",
       "      <td>210796</td>\n",
       "    </tr>\n",
       "    <tr>\n",
       "      <th>2022-08-04 14:40:00-04:00</th>\n",
       "      <td>165.240005</td>\n",
       "      <td>165.259995</td>\n",
       "      <td>165.014999</td>\n",
       "      <td>165.235001</td>\n",
       "      <td>165.235001</td>\n",
       "      <td>303939</td>\n",
       "    </tr>\n",
       "    <tr>\n",
       "      <th>2022-08-04 14:45:00-04:00</th>\n",
       "      <td>165.235001</td>\n",
       "      <td>165.380005</td>\n",
       "      <td>165.169998</td>\n",
       "      <td>165.324997</td>\n",
       "      <td>165.324997</td>\n",
       "      <td>259822</td>\n",
       "    </tr>\n",
       "    <tr>\n",
       "      <th>2022-08-04 14:50:00-04:00</th>\n",
       "      <td>165.339996</td>\n",
       "      <td>165.440002</td>\n",
       "      <td>165.320007</td>\n",
       "      <td>165.434998</td>\n",
       "      <td>165.434998</td>\n",
       "      <td>122357</td>\n",
       "    </tr>\n",
       "    <tr>\n",
       "      <th>2022-08-04 14:52:34-04:00</th>\n",
       "      <td>165.600006</td>\n",
       "      <td>165.600006</td>\n",
       "      <td>165.600006</td>\n",
       "      <td>165.600006</td>\n",
       "      <td>165.600006</td>\n",
       "      <td>0</td>\n",
       "    </tr>\n",
       "  </tbody>\n",
       "</table>\n",
       "<p>3264 rows × 6 columns</p>\n",
       "</div>"
      ],
      "text/plain": [
       "                                 Open        High         Low       Close  \\\n",
       "Datetime                                                                    \n",
       "2022-06-06 09:30:00-04:00  147.029999  148.130005  147.029999  147.839996   \n",
       "2022-06-06 09:35:00-04:00  147.850006  148.020004  147.360001  147.701706   \n",
       "2022-06-06 09:40:00-04:00  147.699997  148.309998  147.570007  148.014999   \n",
       "2022-06-06 09:45:00-04:00  148.029999  148.089996  147.149994  147.400696   \n",
       "2022-06-06 09:50:00-04:00  147.410004  147.699997  147.220001  147.514999   \n",
       "...                               ...         ...         ...         ...   \n",
       "2022-08-04 14:35:00-04:00  165.309998  165.320007  165.160995  165.239899   \n",
       "2022-08-04 14:40:00-04:00  165.240005  165.259995  165.014999  165.235001   \n",
       "2022-08-04 14:45:00-04:00  165.235001  165.380005  165.169998  165.324997   \n",
       "2022-08-04 14:50:00-04:00  165.339996  165.440002  165.320007  165.434998   \n",
       "2022-08-04 14:52:34-04:00  165.600006  165.600006  165.600006  165.600006   \n",
       "\n",
       "                            Adj Close   Volume  \n",
       "Datetime                                        \n",
       "2022-06-06 09:30:00-04:00  147.839996  4579829  \n",
       "2022-06-06 09:35:00-04:00  147.701706  1619853  \n",
       "2022-06-06 09:40:00-04:00  148.014999  1808792  \n",
       "2022-06-06 09:45:00-04:00  147.400696  1313489  \n",
       "2022-06-06 09:50:00-04:00  147.514999   982901  \n",
       "...                               ...      ...  \n",
       "2022-08-04 14:35:00-04:00  165.239899   210796  \n",
       "2022-08-04 14:40:00-04:00  165.235001   303939  \n",
       "2022-08-04 14:45:00-04:00  165.324997   259822  \n",
       "2022-08-04 14:50:00-04:00  165.434998   122357  \n",
       "2022-08-04 14:52:34-04:00  165.600006        0  \n",
       "\n",
       "[3264 rows x 6 columns]"
      ]
     },
     "execution_count": 19,
     "metadata": {},
     "output_type": "execute_result"
    }
   ],
   "source": [
    "# Get the stock quote\n",
    "#df = DataReader('AAPL', data_source='yahoo', start='2012-01-01', end=datetime.now())\n",
    "df = yf.download('AAPL', start='2022-06-06', end=datetime.now(), interval='5m')\n",
    "# Show teh data\n",
    "df"
   ]
  },
  {
   "cell_type": "code",
   "execution_count": 20,
   "metadata": {},
   "outputs": [
    {
     "data": {
      "text/html": [
       "<div>\n",
       "<style scoped>\n",
       "    .dataframe tbody tr th:only-of-type {\n",
       "        vertical-align: middle;\n",
       "    }\n",
       "\n",
       "    .dataframe tbody tr th {\n",
       "        vertical-align: top;\n",
       "    }\n",
       "\n",
       "    .dataframe thead th {\n",
       "        text-align: right;\n",
       "    }\n",
       "</style>\n",
       "<table border=\"1\" class=\"dataframe\">\n",
       "  <thead>\n",
       "    <tr style=\"text-align: right;\">\n",
       "      <th></th>\n",
       "      <th>Open</th>\n",
       "      <th>High</th>\n",
       "      <th>Low</th>\n",
       "      <th>Close</th>\n",
       "      <th>Adj Close</th>\n",
       "      <th>Volume</th>\n",
       "      <th>Return</th>\n",
       "    </tr>\n",
       "    <tr>\n",
       "      <th>Datetime</th>\n",
       "      <th></th>\n",
       "      <th></th>\n",
       "      <th></th>\n",
       "      <th></th>\n",
       "      <th></th>\n",
       "      <th></th>\n",
       "      <th></th>\n",
       "    </tr>\n",
       "  </thead>\n",
       "  <tbody>\n",
       "    <tr>\n",
       "      <th>2022-06-06 09:30:00-04:00</th>\n",
       "      <td>147.029999</td>\n",
       "      <td>148.130005</td>\n",
       "      <td>147.029999</td>\n",
       "      <td>147.839996</td>\n",
       "      <td>147.839996</td>\n",
       "      <td>4579829</td>\n",
       "      <td>0.000000</td>\n",
       "    </tr>\n",
       "    <tr>\n",
       "      <th>2022-06-06 09:35:00-04:00</th>\n",
       "      <td>147.850006</td>\n",
       "      <td>148.020004</td>\n",
       "      <td>147.360001</td>\n",
       "      <td>147.701706</td>\n",
       "      <td>147.701706</td>\n",
       "      <td>1619853</td>\n",
       "      <td>-0.000935</td>\n",
       "    </tr>\n",
       "    <tr>\n",
       "      <th>2022-06-06 09:40:00-04:00</th>\n",
       "      <td>147.699997</td>\n",
       "      <td>148.309998</td>\n",
       "      <td>147.570007</td>\n",
       "      <td>148.014999</td>\n",
       "      <td>148.014999</td>\n",
       "      <td>1808792</td>\n",
       "      <td>0.002121</td>\n",
       "    </tr>\n",
       "    <tr>\n",
       "      <th>2022-06-06 09:45:00-04:00</th>\n",
       "      <td>148.029999</td>\n",
       "      <td>148.089996</td>\n",
       "      <td>147.149994</td>\n",
       "      <td>147.400696</td>\n",
       "      <td>147.400696</td>\n",
       "      <td>1313489</td>\n",
       "      <td>-0.004150</td>\n",
       "    </tr>\n",
       "    <tr>\n",
       "      <th>2022-06-06 09:50:00-04:00</th>\n",
       "      <td>147.410004</td>\n",
       "      <td>147.699997</td>\n",
       "      <td>147.220001</td>\n",
       "      <td>147.514999</td>\n",
       "      <td>147.514999</td>\n",
       "      <td>982901</td>\n",
       "      <td>0.000775</td>\n",
       "    </tr>\n",
       "    <tr>\n",
       "      <th>...</th>\n",
       "      <td>...</td>\n",
       "      <td>...</td>\n",
       "      <td>...</td>\n",
       "      <td>...</td>\n",
       "      <td>...</td>\n",
       "      <td>...</td>\n",
       "      <td>...</td>\n",
       "    </tr>\n",
       "    <tr>\n",
       "      <th>2022-08-04 14:35:00-04:00</th>\n",
       "      <td>165.309998</td>\n",
       "      <td>165.320007</td>\n",
       "      <td>165.160995</td>\n",
       "      <td>165.239899</td>\n",
       "      <td>165.239899</td>\n",
       "      <td>210796</td>\n",
       "      <td>-0.000394</td>\n",
       "    </tr>\n",
       "    <tr>\n",
       "      <th>2022-08-04 14:40:00-04:00</th>\n",
       "      <td>165.240005</td>\n",
       "      <td>165.259995</td>\n",
       "      <td>165.014999</td>\n",
       "      <td>165.235001</td>\n",
       "      <td>165.235001</td>\n",
       "      <td>303939</td>\n",
       "      <td>-0.000030</td>\n",
       "    </tr>\n",
       "    <tr>\n",
       "      <th>2022-08-04 14:45:00-04:00</th>\n",
       "      <td>165.235001</td>\n",
       "      <td>165.380005</td>\n",
       "      <td>165.169998</td>\n",
       "      <td>165.324997</td>\n",
       "      <td>165.324997</td>\n",
       "      <td>259822</td>\n",
       "      <td>0.000545</td>\n",
       "    </tr>\n",
       "    <tr>\n",
       "      <th>2022-08-04 14:50:00-04:00</th>\n",
       "      <td>165.339996</td>\n",
       "      <td>165.440002</td>\n",
       "      <td>165.320007</td>\n",
       "      <td>165.434998</td>\n",
       "      <td>165.434998</td>\n",
       "      <td>122357</td>\n",
       "      <td>0.000665</td>\n",
       "    </tr>\n",
       "    <tr>\n",
       "      <th>2022-08-04 14:52:34-04:00</th>\n",
       "      <td>165.600006</td>\n",
       "      <td>165.600006</td>\n",
       "      <td>165.600006</td>\n",
       "      <td>165.600006</td>\n",
       "      <td>165.600006</td>\n",
       "      <td>0</td>\n",
       "      <td>0.000997</td>\n",
       "    </tr>\n",
       "  </tbody>\n",
       "</table>\n",
       "<p>3264 rows × 7 columns</p>\n",
       "</div>"
      ],
      "text/plain": [
       "                                 Open        High         Low       Close  \\\n",
       "Datetime                                                                    \n",
       "2022-06-06 09:30:00-04:00  147.029999  148.130005  147.029999  147.839996   \n",
       "2022-06-06 09:35:00-04:00  147.850006  148.020004  147.360001  147.701706   \n",
       "2022-06-06 09:40:00-04:00  147.699997  148.309998  147.570007  148.014999   \n",
       "2022-06-06 09:45:00-04:00  148.029999  148.089996  147.149994  147.400696   \n",
       "2022-06-06 09:50:00-04:00  147.410004  147.699997  147.220001  147.514999   \n",
       "...                               ...         ...         ...         ...   \n",
       "2022-08-04 14:35:00-04:00  165.309998  165.320007  165.160995  165.239899   \n",
       "2022-08-04 14:40:00-04:00  165.240005  165.259995  165.014999  165.235001   \n",
       "2022-08-04 14:45:00-04:00  165.235001  165.380005  165.169998  165.324997   \n",
       "2022-08-04 14:50:00-04:00  165.339996  165.440002  165.320007  165.434998   \n",
       "2022-08-04 14:52:34-04:00  165.600006  165.600006  165.600006  165.600006   \n",
       "\n",
       "                            Adj Close   Volume    Return  \n",
       "Datetime                                                  \n",
       "2022-06-06 09:30:00-04:00  147.839996  4579829  0.000000  \n",
       "2022-06-06 09:35:00-04:00  147.701706  1619853 -0.000935  \n",
       "2022-06-06 09:40:00-04:00  148.014999  1808792  0.002121  \n",
       "2022-06-06 09:45:00-04:00  147.400696  1313489 -0.004150  \n",
       "2022-06-06 09:50:00-04:00  147.514999   982901  0.000775  \n",
       "...                               ...      ...       ...  \n",
       "2022-08-04 14:35:00-04:00  165.239899   210796 -0.000394  \n",
       "2022-08-04 14:40:00-04:00  165.235001   303939 -0.000030  \n",
       "2022-08-04 14:45:00-04:00  165.324997   259822  0.000545  \n",
       "2022-08-04 14:50:00-04:00  165.434998   122357  0.000665  \n",
       "2022-08-04 14:52:34-04:00  165.600006        0  0.000997  \n",
       "\n",
       "[3264 rows x 7 columns]"
      ]
     },
     "execution_count": 20,
     "metadata": {},
     "output_type": "execute_result"
    }
   ],
   "source": [
    "df['Return'] = df['Close'].pct_change()\n",
    "df = df.fillna(0)\n",
    "df"
   ]
  },
  {
   "cell_type": "code",
   "execution_count": 21,
   "metadata": {},
   "outputs": [
    {
     "data": {
      "text/html": [
       "<div>\n",
       "<style scoped>\n",
       "    .dataframe tbody tr th:only-of-type {\n",
       "        vertical-align: middle;\n",
       "    }\n",
       "\n",
       "    .dataframe tbody tr th {\n",
       "        vertical-align: top;\n",
       "    }\n",
       "\n",
       "    .dataframe thead th {\n",
       "        text-align: right;\n",
       "    }\n",
       "</style>\n",
       "<table border=\"1\" class=\"dataframe\">\n",
       "  <thead>\n",
       "    <tr style=\"text-align: right;\">\n",
       "      <th></th>\n",
       "      <th>Open</th>\n",
       "      <th>High</th>\n",
       "      <th>Low</th>\n",
       "      <th>Close</th>\n",
       "      <th>Adj Close</th>\n",
       "      <th>Volume</th>\n",
       "      <th>Return</th>\n",
       "      <th>Custom lows</th>\n",
       "    </tr>\n",
       "    <tr>\n",
       "      <th>Datetime</th>\n",
       "      <th></th>\n",
       "      <th></th>\n",
       "      <th></th>\n",
       "      <th></th>\n",
       "      <th></th>\n",
       "      <th></th>\n",
       "      <th></th>\n",
       "      <th></th>\n",
       "    </tr>\n",
       "  </thead>\n",
       "  <tbody>\n",
       "    <tr>\n",
       "      <th>2022-06-06 09:30:00-04:00</th>\n",
       "      <td>147.029999</td>\n",
       "      <td>148.130005</td>\n",
       "      <td>147.029999</td>\n",
       "      <td>147.839996</td>\n",
       "      <td>147.839996</td>\n",
       "      <td>4579829</td>\n",
       "      <td>0.000000</td>\n",
       "      <td>0</td>\n",
       "    </tr>\n",
       "    <tr>\n",
       "      <th>2022-06-06 09:35:00-04:00</th>\n",
       "      <td>147.850006</td>\n",
       "      <td>148.020004</td>\n",
       "      <td>147.360001</td>\n",
       "      <td>147.701706</td>\n",
       "      <td>147.701706</td>\n",
       "      <td>1619853</td>\n",
       "      <td>-0.000935</td>\n",
       "      <td>1</td>\n",
       "    </tr>\n",
       "    <tr>\n",
       "      <th>2022-06-06 09:40:00-04:00</th>\n",
       "      <td>147.699997</td>\n",
       "      <td>148.309998</td>\n",
       "      <td>147.570007</td>\n",
       "      <td>148.014999</td>\n",
       "      <td>148.014999</td>\n",
       "      <td>1808792</td>\n",
       "      <td>0.002121</td>\n",
       "      <td>1</td>\n",
       "    </tr>\n",
       "    <tr>\n",
       "      <th>2022-06-06 09:45:00-04:00</th>\n",
       "      <td>148.029999</td>\n",
       "      <td>148.089996</td>\n",
       "      <td>147.149994</td>\n",
       "      <td>147.400696</td>\n",
       "      <td>147.400696</td>\n",
       "      <td>1313489</td>\n",
       "      <td>-0.004150</td>\n",
       "      <td>0</td>\n",
       "    </tr>\n",
       "    <tr>\n",
       "      <th>2022-06-06 09:50:00-04:00</th>\n",
       "      <td>147.410004</td>\n",
       "      <td>147.699997</td>\n",
       "      <td>147.220001</td>\n",
       "      <td>147.514999</td>\n",
       "      <td>147.514999</td>\n",
       "      <td>982901</td>\n",
       "      <td>0.000775</td>\n",
       "      <td>1</td>\n",
       "    </tr>\n",
       "    <tr>\n",
       "      <th>...</th>\n",
       "      <td>...</td>\n",
       "      <td>...</td>\n",
       "      <td>...</td>\n",
       "      <td>...</td>\n",
       "      <td>...</td>\n",
       "      <td>...</td>\n",
       "      <td>...</td>\n",
       "      <td>...</td>\n",
       "    </tr>\n",
       "    <tr>\n",
       "      <th>2022-08-04 14:35:00-04:00</th>\n",
       "      <td>165.309998</td>\n",
       "      <td>165.320007</td>\n",
       "      <td>165.160995</td>\n",
       "      <td>165.239899</td>\n",
       "      <td>165.239899</td>\n",
       "      <td>210796</td>\n",
       "      <td>-0.000394</td>\n",
       "      <td>0</td>\n",
       "    </tr>\n",
       "    <tr>\n",
       "      <th>2022-08-04 14:40:00-04:00</th>\n",
       "      <td>165.240005</td>\n",
       "      <td>165.259995</td>\n",
       "      <td>165.014999</td>\n",
       "      <td>165.235001</td>\n",
       "      <td>165.235001</td>\n",
       "      <td>303939</td>\n",
       "      <td>-0.000030</td>\n",
       "      <td>0</td>\n",
       "    </tr>\n",
       "    <tr>\n",
       "      <th>2022-08-04 14:45:00-04:00</th>\n",
       "      <td>165.235001</td>\n",
       "      <td>165.380005</td>\n",
       "      <td>165.169998</td>\n",
       "      <td>165.324997</td>\n",
       "      <td>165.324997</td>\n",
       "      <td>259822</td>\n",
       "      <td>0.000545</td>\n",
       "      <td>1</td>\n",
       "    </tr>\n",
       "    <tr>\n",
       "      <th>2022-08-04 14:50:00-04:00</th>\n",
       "      <td>165.339996</td>\n",
       "      <td>165.440002</td>\n",
       "      <td>165.320007</td>\n",
       "      <td>165.434998</td>\n",
       "      <td>165.434998</td>\n",
       "      <td>122357</td>\n",
       "      <td>0.000665</td>\n",
       "      <td>1</td>\n",
       "    </tr>\n",
       "    <tr>\n",
       "      <th>2022-08-04 14:52:34-04:00</th>\n",
       "      <td>165.600006</td>\n",
       "      <td>165.600006</td>\n",
       "      <td>165.600006</td>\n",
       "      <td>165.600006</td>\n",
       "      <td>165.600006</td>\n",
       "      <td>0</td>\n",
       "      <td>0.000997</td>\n",
       "      <td>1</td>\n",
       "    </tr>\n",
       "  </tbody>\n",
       "</table>\n",
       "<p>3264 rows × 8 columns</p>\n",
       "</div>"
      ],
      "text/plain": [
       "                                 Open        High         Low       Close  \\\n",
       "Datetime                                                                    \n",
       "2022-06-06 09:30:00-04:00  147.029999  148.130005  147.029999  147.839996   \n",
       "2022-06-06 09:35:00-04:00  147.850006  148.020004  147.360001  147.701706   \n",
       "2022-06-06 09:40:00-04:00  147.699997  148.309998  147.570007  148.014999   \n",
       "2022-06-06 09:45:00-04:00  148.029999  148.089996  147.149994  147.400696   \n",
       "2022-06-06 09:50:00-04:00  147.410004  147.699997  147.220001  147.514999   \n",
       "...                               ...         ...         ...         ...   \n",
       "2022-08-04 14:35:00-04:00  165.309998  165.320007  165.160995  165.239899   \n",
       "2022-08-04 14:40:00-04:00  165.240005  165.259995  165.014999  165.235001   \n",
       "2022-08-04 14:45:00-04:00  165.235001  165.380005  165.169998  165.324997   \n",
       "2022-08-04 14:50:00-04:00  165.339996  165.440002  165.320007  165.434998   \n",
       "2022-08-04 14:52:34-04:00  165.600006  165.600006  165.600006  165.600006   \n",
       "\n",
       "                            Adj Close   Volume    Return  Custom lows  \n",
       "Datetime                                                               \n",
       "2022-06-06 09:30:00-04:00  147.839996  4579829  0.000000            0  \n",
       "2022-06-06 09:35:00-04:00  147.701706  1619853 -0.000935            1  \n",
       "2022-06-06 09:40:00-04:00  148.014999  1808792  0.002121            1  \n",
       "2022-06-06 09:45:00-04:00  147.400696  1313489 -0.004150            0  \n",
       "2022-06-06 09:50:00-04:00  147.514999   982901  0.000775            1  \n",
       "...                               ...      ...       ...          ...  \n",
       "2022-08-04 14:35:00-04:00  165.239899   210796 -0.000394            0  \n",
       "2022-08-04 14:40:00-04:00  165.235001   303939 -0.000030            0  \n",
       "2022-08-04 14:45:00-04:00  165.324997   259822  0.000545            1  \n",
       "2022-08-04 14:50:00-04:00  165.434998   122357  0.000665            1  \n",
       "2022-08-04 14:52:34-04:00  165.600006        0  0.000997            1  \n",
       "\n",
       "[3264 rows x 8 columns]"
      ]
     },
     "execution_count": 21,
     "metadata": {},
     "output_type": "execute_result"
    }
   ],
   "source": [
    "low_low=[]\n",
    "\n",
    "for row in range(len(df)):\n",
    "    if df.iloc[row-1, 2] > df.iloc[row, 2]:\n",
    "        low_low.append(0)\n",
    "        \n",
    "    elif (df.iloc[row-1, 2] < df.iloc[row, 2]):\n",
    "        low_low.append(1)\n",
    "        \n",
    "    elif (df.iloc[row-1, 2] == df.iloc[row, 2]):\n",
    "        low_low.append(-1)\n",
    "        \n",
    "low_low = np.array(low_low)        \n",
    "low_low = np.transpose(low_low).reshape(-1,1)\n",
    "df['Custom lows'] = low_low\n",
    "df"
   ]
  },
  {
   "cell_type": "code",
   "execution_count": 22,
   "metadata": {},
   "outputs": [
    {
     "data": {
      "text/html": [
       "<div>\n",
       "<style scoped>\n",
       "    .dataframe tbody tr th:only-of-type {\n",
       "        vertical-align: middle;\n",
       "    }\n",
       "\n",
       "    .dataframe tbody tr th {\n",
       "        vertical-align: top;\n",
       "    }\n",
       "\n",
       "    .dataframe thead th {\n",
       "        text-align: right;\n",
       "    }\n",
       "</style>\n",
       "<table border=\"1\" class=\"dataframe\">\n",
       "  <thead>\n",
       "    <tr style=\"text-align: right;\">\n",
       "      <th></th>\n",
       "      <th>Open</th>\n",
       "      <th>High</th>\n",
       "      <th>Low</th>\n",
       "      <th>Close</th>\n",
       "      <th>Adj Close</th>\n",
       "      <th>Volume</th>\n",
       "      <th>Return</th>\n",
       "      <th>Custom lows</th>\n",
       "      <th>Custom highs</th>\n",
       "    </tr>\n",
       "    <tr>\n",
       "      <th>Datetime</th>\n",
       "      <th></th>\n",
       "      <th></th>\n",
       "      <th></th>\n",
       "      <th></th>\n",
       "      <th></th>\n",
       "      <th></th>\n",
       "      <th></th>\n",
       "      <th></th>\n",
       "      <th></th>\n",
       "    </tr>\n",
       "  </thead>\n",
       "  <tbody>\n",
       "    <tr>\n",
       "      <th>2022-06-06 09:30:00-04:00</th>\n",
       "      <td>147.029999</td>\n",
       "      <td>148.130005</td>\n",
       "      <td>147.029999</td>\n",
       "      <td>147.839996</td>\n",
       "      <td>147.839996</td>\n",
       "      <td>4579829</td>\n",
       "      <td>0.000000</td>\n",
       "      <td>0</td>\n",
       "      <td>0</td>\n",
       "    </tr>\n",
       "    <tr>\n",
       "      <th>2022-06-06 09:35:00-04:00</th>\n",
       "      <td>147.850006</td>\n",
       "      <td>148.020004</td>\n",
       "      <td>147.360001</td>\n",
       "      <td>147.701706</td>\n",
       "      <td>147.701706</td>\n",
       "      <td>1619853</td>\n",
       "      <td>-0.000935</td>\n",
       "      <td>1</td>\n",
       "      <td>0</td>\n",
       "    </tr>\n",
       "    <tr>\n",
       "      <th>2022-06-06 09:40:00-04:00</th>\n",
       "      <td>147.699997</td>\n",
       "      <td>148.309998</td>\n",
       "      <td>147.570007</td>\n",
       "      <td>148.014999</td>\n",
       "      <td>148.014999</td>\n",
       "      <td>1808792</td>\n",
       "      <td>0.002121</td>\n",
       "      <td>1</td>\n",
       "      <td>1</td>\n",
       "    </tr>\n",
       "    <tr>\n",
       "      <th>2022-06-06 09:45:00-04:00</th>\n",
       "      <td>148.029999</td>\n",
       "      <td>148.089996</td>\n",
       "      <td>147.149994</td>\n",
       "      <td>147.400696</td>\n",
       "      <td>147.400696</td>\n",
       "      <td>1313489</td>\n",
       "      <td>-0.004150</td>\n",
       "      <td>0</td>\n",
       "      <td>0</td>\n",
       "    </tr>\n",
       "    <tr>\n",
       "      <th>2022-06-06 09:50:00-04:00</th>\n",
       "      <td>147.410004</td>\n",
       "      <td>147.699997</td>\n",
       "      <td>147.220001</td>\n",
       "      <td>147.514999</td>\n",
       "      <td>147.514999</td>\n",
       "      <td>982901</td>\n",
       "      <td>0.000775</td>\n",
       "      <td>1</td>\n",
       "      <td>0</td>\n",
       "    </tr>\n",
       "    <tr>\n",
       "      <th>...</th>\n",
       "      <td>...</td>\n",
       "      <td>...</td>\n",
       "      <td>...</td>\n",
       "      <td>...</td>\n",
       "      <td>...</td>\n",
       "      <td>...</td>\n",
       "      <td>...</td>\n",
       "      <td>...</td>\n",
       "      <td>...</td>\n",
       "    </tr>\n",
       "    <tr>\n",
       "      <th>2022-08-04 14:35:00-04:00</th>\n",
       "      <td>165.309998</td>\n",
       "      <td>165.320007</td>\n",
       "      <td>165.160995</td>\n",
       "      <td>165.239899</td>\n",
       "      <td>165.239899</td>\n",
       "      <td>210796</td>\n",
       "      <td>-0.000394</td>\n",
       "      <td>0</td>\n",
       "      <td>0</td>\n",
       "    </tr>\n",
       "    <tr>\n",
       "      <th>2022-08-04 14:40:00-04:00</th>\n",
       "      <td>165.240005</td>\n",
       "      <td>165.259995</td>\n",
       "      <td>165.014999</td>\n",
       "      <td>165.235001</td>\n",
       "      <td>165.235001</td>\n",
       "      <td>303939</td>\n",
       "      <td>-0.000030</td>\n",
       "      <td>0</td>\n",
       "      <td>0</td>\n",
       "    </tr>\n",
       "    <tr>\n",
       "      <th>2022-08-04 14:45:00-04:00</th>\n",
       "      <td>165.235001</td>\n",
       "      <td>165.380005</td>\n",
       "      <td>165.169998</td>\n",
       "      <td>165.324997</td>\n",
       "      <td>165.324997</td>\n",
       "      <td>259822</td>\n",
       "      <td>0.000545</td>\n",
       "      <td>1</td>\n",
       "      <td>1</td>\n",
       "    </tr>\n",
       "    <tr>\n",
       "      <th>2022-08-04 14:50:00-04:00</th>\n",
       "      <td>165.339996</td>\n",
       "      <td>165.440002</td>\n",
       "      <td>165.320007</td>\n",
       "      <td>165.434998</td>\n",
       "      <td>165.434998</td>\n",
       "      <td>122357</td>\n",
       "      <td>0.000665</td>\n",
       "      <td>1</td>\n",
       "      <td>1</td>\n",
       "    </tr>\n",
       "    <tr>\n",
       "      <th>2022-08-04 14:52:34-04:00</th>\n",
       "      <td>165.600006</td>\n",
       "      <td>165.600006</td>\n",
       "      <td>165.600006</td>\n",
       "      <td>165.600006</td>\n",
       "      <td>165.600006</td>\n",
       "      <td>0</td>\n",
       "      <td>0.000997</td>\n",
       "      <td>1</td>\n",
       "      <td>1</td>\n",
       "    </tr>\n",
       "  </tbody>\n",
       "</table>\n",
       "<p>3264 rows × 9 columns</p>\n",
       "</div>"
      ],
      "text/plain": [
       "                                 Open        High         Low       Close  \\\n",
       "Datetime                                                                    \n",
       "2022-06-06 09:30:00-04:00  147.029999  148.130005  147.029999  147.839996   \n",
       "2022-06-06 09:35:00-04:00  147.850006  148.020004  147.360001  147.701706   \n",
       "2022-06-06 09:40:00-04:00  147.699997  148.309998  147.570007  148.014999   \n",
       "2022-06-06 09:45:00-04:00  148.029999  148.089996  147.149994  147.400696   \n",
       "2022-06-06 09:50:00-04:00  147.410004  147.699997  147.220001  147.514999   \n",
       "...                               ...         ...         ...         ...   \n",
       "2022-08-04 14:35:00-04:00  165.309998  165.320007  165.160995  165.239899   \n",
       "2022-08-04 14:40:00-04:00  165.240005  165.259995  165.014999  165.235001   \n",
       "2022-08-04 14:45:00-04:00  165.235001  165.380005  165.169998  165.324997   \n",
       "2022-08-04 14:50:00-04:00  165.339996  165.440002  165.320007  165.434998   \n",
       "2022-08-04 14:52:34-04:00  165.600006  165.600006  165.600006  165.600006   \n",
       "\n",
       "                            Adj Close   Volume    Return  Custom lows  \\\n",
       "Datetime                                                                \n",
       "2022-06-06 09:30:00-04:00  147.839996  4579829  0.000000            0   \n",
       "2022-06-06 09:35:00-04:00  147.701706  1619853 -0.000935            1   \n",
       "2022-06-06 09:40:00-04:00  148.014999  1808792  0.002121            1   \n",
       "2022-06-06 09:45:00-04:00  147.400696  1313489 -0.004150            0   \n",
       "2022-06-06 09:50:00-04:00  147.514999   982901  0.000775            1   \n",
       "...                               ...      ...       ...          ...   \n",
       "2022-08-04 14:35:00-04:00  165.239899   210796 -0.000394            0   \n",
       "2022-08-04 14:40:00-04:00  165.235001   303939 -0.000030            0   \n",
       "2022-08-04 14:45:00-04:00  165.324997   259822  0.000545            1   \n",
       "2022-08-04 14:50:00-04:00  165.434998   122357  0.000665            1   \n",
       "2022-08-04 14:52:34-04:00  165.600006        0  0.000997            1   \n",
       "\n",
       "                           Custom highs  \n",
       "Datetime                                 \n",
       "2022-06-06 09:30:00-04:00             0  \n",
       "2022-06-06 09:35:00-04:00             0  \n",
       "2022-06-06 09:40:00-04:00             1  \n",
       "2022-06-06 09:45:00-04:00             0  \n",
       "2022-06-06 09:50:00-04:00             0  \n",
       "...                                 ...  \n",
       "2022-08-04 14:35:00-04:00             0  \n",
       "2022-08-04 14:40:00-04:00             0  \n",
       "2022-08-04 14:45:00-04:00             1  \n",
       "2022-08-04 14:50:00-04:00             1  \n",
       "2022-08-04 14:52:34-04:00             1  \n",
       "\n",
       "[3264 rows x 9 columns]"
      ]
     },
     "execution_count": 22,
     "metadata": {},
     "output_type": "execute_result"
    }
   ],
   "source": [
    "high_high=[]\n",
    "\n",
    "for row in range(len(df)):\n",
    "    if df.iloc[row-1, 1] > df.iloc[row, 1]:\n",
    "        high_high.append(0)\n",
    "        \n",
    "    elif (df.iloc[row-1, 1] < df.iloc[row, 1]):\n",
    "        high_high.append(1)\n",
    "        \n",
    "    elif (df.iloc[row-1, 1] == df.iloc[row, 1]):\n",
    "        high_high.append(-1)\n",
    "        \n",
    "high_high = np.array(high_high)        \n",
    "high_high = np.transpose(high_high).reshape(-1,1)\n",
    "df['Custom highs'] = high_high\n",
    "df"
   ]
  },
  {
   "cell_type": "code",
   "execution_count": 23,
   "metadata": {},
   "outputs": [
    {
     "data": {
      "image/png": "[encoded data removed]",
      "text/plain": [
       "<Figure size 1152x432 with 1 Axes>"
      ]
     },
     "metadata": {
      "needs_background": "light"
     },
     "output_type": "display_data"
    }
   ],
   "source": [
    "plt.figure(figsize=(16,6))\n",
    "plt.title('Close Price History')\n",
    "plt.plot(df['Close'])\n",
    "#plt.hist(df['Volume']);\n",
    "plt.xlabel('Date', fontsize=18)\n",
    "plt.ylabel('Close Price USD ($)', fontsize=18)\n",
    "plt.show()"
   ]
  },
  {
   "cell_type": "code",
   "execution_count": 24,
   "metadata": {},
   "outputs": [
    {
     "data": {
      "image/png": "[encoded data removed]",
      "text/plain": [
       "<Figure size 1008x576 with 1 Axes>"
      ]
     },
     "metadata": {
      "needs_background": "light"
     },
     "output_type": "display_data"
    }
   ],
   "source": [
    "x_list = np.linspace(\n",
    "                    df['Return'].min(),\n",
    "                    df['Return'].max(),\n",
    "                    100\n",
    "                    )\n",
    "\n",
    "y_list = norm.pdf(x_list, loc=df['Return'].mean(), scale=df['Return'].std())\n",
    "\n",
    "plt.figure(figsize=(14,8))\n",
    "plt.title('Norman Dist')\n",
    "plt.xlabel('Return', fontsize=18)\n",
    "plt.ylabel('Frequency', fontsize=18)\n",
    "plt.plot(x_list,y_list);\n",
    "plt.hist(df['Return'], bins=500,density=True);"
   ]
  },
  {
   "cell_type": "code",
   "execution_count": 25,
   "metadata": {},
   "outputs": [
    {
     "data": {
      "image/png": "[encoded data removed]",
      "text/plain": [
       "<Figure size 432x288 with 1 Axes>"
      ]
     },
     "metadata": {
      "needs_background": "light"
     },
     "output_type": "display_data"
    }
   ],
   "source": [
    "probplot(df['Return'],dist='norm',fit= True,plot=plt);"
   ]
  },
  {
   "cell_type": "code",
   "execution_count": 26,
   "metadata": {},
   "outputs": [
    {
     "data": {
      "image/png": "[encoded data removed]",
      "text/plain": [
       "<Figure size 1008x576 with 1 Axes>"
      ]
     },
     "metadata": {
      "needs_background": "light"
     },
     "output_type": "display_data"
    }
   ],
   "source": [
    "x_list = np.linspace(\n",
    "                    df['Return'].min(),\n",
    "                    df['Return'].max(),\n",
    "                    100\n",
    "                    )\n",
    "\n",
    "params = t.fit(df['Return'].dropna())\n",
    "degree_of_freedom, loc, scale = params\n",
    "\n",
    "y_list = t.pdf(x_list, degree_of_freedom, loc, scale)\n",
    "\n",
    "plt.figure(figsize=(14,8))\n",
    "plt.title('tStudent Dist')\n",
    "plt.xlabel('Return', fontsize=18)\n",
    "plt.ylabel('Frequency', fontsize=18)\n",
    "plt.plot(x_list,y_list);\n",
    "plt.hist(df['Return'], bins=500,density=True);"
   ]
  },
  {
   "cell_type": "markdown",
   "metadata": {},
   "source": [
    "### Proccessing data"
   ]
  },
  {
   "cell_type": "code",
   "execution_count": 27,
   "metadata": {},
   "outputs": [
    {
     "data": {
      "text/plain": [
       "1"
      ]
     },
     "execution_count": 27,
     "metadata": {},
     "output_type": "execute_result"
    }
   ],
   "source": [
    "# featurs list\n",
    "features = ['Return']\n",
    "feature_size = len(features)\n",
    "feature_size"
   ]
  },
  {
   "cell_type": "code",
   "execution_count": 28,
   "metadata": {},
   "outputs": [
    {
     "data": {
      "text/plain": [
       "3101"
      ]
     },
     "execution_count": 28,
     "metadata": {},
     "output_type": "execute_result"
    }
   ],
   "source": [
    "# Create a new dataframe with only the 'Close' and 'volume' column \n",
    "data = df.filter(features)\n",
    "# Convert the dataframe to a numpy array\n",
    "dataset = data.values\n",
    "# Get the number of rows to train the model on (95% of total data)\n",
    "training_data_len = int(np.ceil(len(dataset) * 0.95 ))\n",
    "\n",
    "training_data_len"
   ]
  },
  {
   "cell_type": "code",
   "execution_count": 29,
   "metadata": {},
   "outputs": [
    {
     "data": {
      "text/plain": [
       "(3101, 1)"
      ]
     },
     "execution_count": 29,
     "metadata": {},
     "output_type": "execute_result"
    }
   ],
   "source": [
    "# Create the training data set \n",
    "# Create the scaled training data set\n",
    "train_data = dataset[0:training_data_len, :]\n",
    "\n",
    "# Normolize train data\n",
    "scaler = MinMaxScaler()\n",
    "scaled_train_data = scaler.fit_transform(train_data)\n",
    "scaled_train_data.shape"
   ]
  },
  {
   "cell_type": "code",
   "execution_count": 30,
   "metadata": {},
   "outputs": [
    {
     "data": {
      "text/plain": [
       "(0.5339889770392334, 0.0387944677620982)"
      ]
     },
     "execution_count": 30,
     "metadata": {},
     "output_type": "execute_result"
    }
   ],
   "source": [
    "scaled_train_data.mean(), scaled_train_data.std()"
   ]
  },
  {
   "cell_type": "code",
   "execution_count": 31,
   "metadata": {},
   "outputs": [
    {
     "name": "stdout",
     "output_type": "stream",
     "text": [
      "\n",
      "\n"
     ]
    },
    {
     "data": {
      "text/plain": [
       "(3041, 60, 1)"
      ]
     },
     "execution_count": 31,
     "metadata": {},
     "output_type": "execute_result"
    }
   ],
   "source": [
    "# Split the data into x_train and y_train data sets\n",
    "x_train = []\n",
    "y_train = []\n",
    "\n",
    "for i in range(60, len(scaled_train_data)):\n",
    "    x_train.append(scaled_train_data[i-60:i, :]) #60 days for test data\n",
    "    y_train.append(scaled_train_data[i, :])\n",
    "    if i<= 61:\n",
    "        #print(x_train)\n",
    "        #print(y_train)\n",
    "        print()\n",
    "        \n",
    "# Convert the x_train and y_train to numpy arrays \n",
    "x_train, y_train = np.array(x_train), np.array(y_train)\n",
    "\n",
    "# Reshape the data\n",
    "x_train = np.reshape(x_train, (x_train.shape[0], x_train.shape[1], feature_size))\n",
    "x_train.shape"
   ]
  },
  {
   "cell_type": "code",
   "execution_count": 32,
   "metadata": {},
   "outputs": [
    {
     "data": {
      "text/plain": [
       "(163, 60, 1)"
      ]
     },
     "execution_count": 32,
     "metadata": {},
     "output_type": "execute_result"
    }
   ],
   "source": [
    "# Create the testing data set\n",
    "# Create a new array containing scaled values from index 1543 to 2002 \n",
    "test_data = dataset[training_data_len - 60: , :]\n",
    "\n",
    "#\n",
    "test_data = scaler.transform(test_data)\n",
    "\n",
    "# Create the data sets x_test and y_test\n",
    "x_test = []\n",
    "y_test = dataset[training_data_len:, :]\n",
    "for i in range(60, len(test_data)):\n",
    "    x_test.append(test_data[i-60:i, :])\n",
    "    \n",
    "# Convert the data to a numpy array\n",
    "x_test = np.array(x_test)\n",
    "#print(x_test)\n",
    "\n",
    "# Reshape the data\n",
    "x_test = np.reshape(x_test, (x_test.shape[0], x_test.shape[1], feature_size))\n",
    "x_test.shape"
   ]
  },
  {
   "cell_type": "markdown",
   "metadata": {},
   "source": [
    "### Callbacks"
   ]
  },
  {
   "cell_type": "code",
   "execution_count": 33,
   "metadata": {},
   "outputs": [],
   "source": [
    "model_checkpoint_callback = keras.callbacks.ModelCheckpoint('model_best_loss.h5',\n",
    "                                                            monitor='loss',\n",
    "                                                            save_best_only=True)\n",
    "\n",
    "early_stopping_callback = keras.callbacks.EarlyStopping(patience=5,\n",
    "                              restore_best_weights=True,\n",
    "                              monitor='loss'\n",
    "                              )"
   ]
  },
  {
   "cell_type": "markdown",
   "metadata": {},
   "source": [
    "### Create Model"
   ]
  },
  {
   "cell_type": "code",
   "execution_count": 34,
   "metadata": {},
   "outputs": [
    {
     "name": "stdout",
     "output_type": "stream",
     "text": [
      "Model: \"my_model\"\n",
      "_________________________________________________________________\n",
      " Layer (type)                Output Shape              Param #   \n",
      "=================================================================\n",
      " lstm (LSTM)                 (None, 60, 200)           161600    \n",
      "                                                                 \n",
      " lstm_1 (LSTM)               (None, 60, 100)           120400    \n",
      "                                                                 \n",
      " lstm_2 (LSTM)               (None, 50)                30200     \n",
      "                                                                 \n",
      " dense (Dense)               (None, 1)                 51        \n",
      "                                                                 \n",
      "=================================================================\n",
      "Total params: 312,251\n",
      "Trainable params: 312,251\n",
      "Non-trainable params: 0\n",
      "_________________________________________________________________\n"
     ]
    }
   ],
   "source": [
    "# Build the LSTM model\n",
    "model = Sequential(name='my_model')\n",
    "model.add(LSTM(200, return_sequences=True, input_shape = (x_train.shape[1], feature_size)))\n",
    "model.add(LSTM(100, return_sequences=True, dropout=0.1))\n",
    "model.add(LSTM(50, return_sequences=False, dropout=0.1))\n",
    "model.add(Dense(feature_size, activation='linear'))\n",
    "\n",
    "# Compile the model\n",
    "model.compile(optimizer='adam', loss='mean_squared_error')\n",
    "\n",
    "model.summary()"
   ]
  },
  {
   "cell_type": "code",
   "execution_count": 36,
   "metadata": {},
   "outputs": [
    {
     "name": "stdout",
     "output_type": "stream",
     "text": [
      "Epoch 1/10\n",
      "1521/1521 [==============================] - 40s 26ms/step - loss: 0.0017\n",
      "Epoch 2/10\n",
      "1521/1521 [==============================] - 41s 27ms/step - loss: 0.0017\n",
      "Epoch 3/10\n",
      "1521/1521 [==============================] - 41s 27ms/step - loss: 0.0016\n",
      "Epoch 4/10\n",
      "1521/1521 [==============================] - 40s 27ms/step - loss: 0.0016\n",
      "Epoch 5/10\n",
      "1521/1521 [==============================] - 40s 26ms/step - loss: 0.0016\n",
      "Epoch 6/10\n",
      "1521/1521 [==============================] - 40s 27ms/step - loss: 0.0016\n",
      "Epoch 7/10\n",
      "1521/1521 [==============================] - 40s 26ms/step - loss: 0.0016\n",
      "Epoch 8/10\n",
      "1521/1521 [==============================] - 40s 26ms/step - loss: 0.0016\n",
      "Epoch 9/10\n",
      "1521/1521 [==============================] - 41s 27ms/step - loss: 0.0016\n",
      "Epoch 10/10\n",
      "1521/1521 [==============================] - 41s 27ms/step - loss: 0.0016\n"
     ]
    }
   ],
   "source": [
    "# Train the model\n",
    "fit_history = model.fit(x_train,\n",
    "                        y_train,\n",
    "                        batch_size=2,\n",
    "                        epochs=10,\n",
    "                        callbacks=[model_checkpoint_callback, early_stopping_callback])"
   ]
  },
  {
   "cell_type": "code",
   "execution_count": 37,
   "metadata": {},
   "outputs": [],
   "source": [
    "# Save the trained model\n",
    "model.save('my_model.h5')"
   ]
  },
  {
   "cell_type": "code",
   "execution_count": null,
   "metadata": {},
   "outputs": [],
   "source": [
    "# It can be used to reconstruct the model identically.\n",
    "reconstructed_model = keras.models.load_model('model_best_loss.h5')\n",
    "model = reconstructed_model\n",
    "model.summary()\n"
   ]
  },
  {
   "cell_type": "code",
   "execution_count": 38,
   "metadata": {},
   "outputs": [
    {
     "data": {
      "text/plain": [
       "[<matplotlib.lines.Line2D at 0x2024366db70>]"
      ]
     },
     "execution_count": 38,
     "metadata": {},
     "output_type": "execute_result"
    },
    {
     "data": {
      "image/png": "[encoded data removed]",
      "text/plain": [
       "<Figure size 864x360 with 1 Axes>"
      ]
     },
     "metadata": {
      "needs_background": "light"
     },
     "output_type": "display_data"
    }
   ],
   "source": [
    "#Draw loss chart\n",
    "fig, ax = plt.subplots(figsize=(12,5))\n",
    "ax.plot(fit_history.history['loss'])"
   ]
  },
  {
   "cell_type": "code",
   "execution_count": 39,
   "metadata": {},
   "outputs": [
    {
     "name": "stdout",
     "output_type": "stream",
     "text": [
      "6/6 [==============================] - 1s 15ms/step\n",
      "(163, 1)\n"
     ]
    },
    {
     "data": {
      "text/plain": [
       "0.0017904027569425104"
      ]
     },
     "execution_count": 39,
     "metadata": {},
     "output_type": "execute_result"
    }
   ],
   "source": [
    "# Get the models predicted price values \n",
    "predictions = model.predict(x_test)\n",
    "predictions = scaler.inverse_transform(predictions)\n",
    "print(predictions.shape)\n",
    "\n",
    "# Get the root mean squared error (RMSE)\n",
    "rmse = np.sqrt(np.mean(((predictions - y_test) ** 2)))\n",
    "rmse"
   ]
  },
  {
   "cell_type": "code",
   "execution_count": 40,
   "metadata": {},
   "outputs": [],
   "source": [
    "# Predict the data\n",
    "train = data[:training_data_len]\n",
    "valid = data[training_data_len:]"
   ]
  },
  {
   "cell_type": "code",
   "execution_count": 43,
   "metadata": {},
   "outputs": [],
   "source": [
    "\n",
    "# Insert Predictions in to the table\n",
    "#valid.insert(1,'Close Prediction', predictions[:,0])\n",
    "#valid.insert(3,'Volume Prediction', predictions[:,0])\n",
    "valid.insert(1,'Return Prediction', predictions[:,0])\n",
    "\n",
    "# Drop custom columns\n",
    "#valid = valid.drop(columns=['Custom lows','Custom highs'])"
   ]
  },
  {
   "cell_type": "code",
   "execution_count": 44,
   "metadata": {},
   "outputs": [
    {
     "data": {
      "text/html": [
       "<div>\n",
       "<style scoped>\n",
       "    .dataframe tbody tr th:only-of-type {\n",
       "        vertical-align: middle;\n",
       "    }\n",
       "\n",
       "    .dataframe tbody tr th {\n",
       "        vertical-align: top;\n",
       "    }\n",
       "\n",
       "    .dataframe thead th {\n",
       "        text-align: right;\n",
       "    }\n",
       "</style>\n",
       "<table border=\"1\" class=\"dataframe\">\n",
       "  <thead>\n",
       "    <tr style=\"text-align: right;\">\n",
       "      <th></th>\n",
       "      <th>Return</th>\n",
       "      <th>Return Prediction</th>\n",
       "    </tr>\n",
       "    <tr>\n",
       "      <th>Datetime</th>\n",
       "      <th></th>\n",
       "      <th></th>\n",
       "    </tr>\n",
       "  </thead>\n",
       "  <tbody>\n",
       "    <tr>\n",
       "      <th>2022-08-02 14:25:00-04:00</th>\n",
       "      <td>0.000248</td>\n",
       "      <td>-0.000446</td>\n",
       "    </tr>\n",
       "    <tr>\n",
       "      <th>2022-08-02 14:30:00-04:00</th>\n",
       "      <td>0.001429</td>\n",
       "      <td>-0.000446</td>\n",
       "    </tr>\n",
       "    <tr>\n",
       "      <th>2022-08-02 14:35:00-04:00</th>\n",
       "      <td>-0.001638</td>\n",
       "      <td>-0.000446</td>\n",
       "    </tr>\n",
       "    <tr>\n",
       "      <th>2022-08-02 14:40:00-04:00</th>\n",
       "      <td>0.000336</td>\n",
       "      <td>-0.000447</td>\n",
       "    </tr>\n",
       "    <tr>\n",
       "      <th>2022-08-02 14:45:00-04:00</th>\n",
       "      <td>0.000714</td>\n",
       "      <td>-0.000446</td>\n",
       "    </tr>\n",
       "    <tr>\n",
       "      <th>...</th>\n",
       "      <td>...</td>\n",
       "      <td>...</td>\n",
       "    </tr>\n",
       "    <tr>\n",
       "      <th>2022-08-04 14:35:00-04:00</th>\n",
       "      <td>-0.000394</td>\n",
       "      <td>-0.000447</td>\n",
       "    </tr>\n",
       "    <tr>\n",
       "      <th>2022-08-04 14:40:00-04:00</th>\n",
       "      <td>-0.000030</td>\n",
       "      <td>-0.000447</td>\n",
       "    </tr>\n",
       "    <tr>\n",
       "      <th>2022-08-04 14:45:00-04:00</th>\n",
       "      <td>0.000545</td>\n",
       "      <td>-0.000447</td>\n",
       "    </tr>\n",
       "    <tr>\n",
       "      <th>2022-08-04 14:50:00-04:00</th>\n",
       "      <td>0.000665</td>\n",
       "      <td>-0.000446</td>\n",
       "    </tr>\n",
       "    <tr>\n",
       "      <th>2022-08-04 14:52:34-04:00</th>\n",
       "      <td>0.000997</td>\n",
       "      <td>-0.000447</td>\n",
       "    </tr>\n",
       "  </tbody>\n",
       "</table>\n",
       "<p>163 rows × 2 columns</p>\n",
       "</div>"
      ],
      "text/plain": [
       "                             Return  Return Prediction\n",
       "Datetime                                              \n",
       "2022-08-02 14:25:00-04:00  0.000248          -0.000446\n",
       "2022-08-02 14:30:00-04:00  0.001429          -0.000446\n",
       "2022-08-02 14:35:00-04:00 -0.001638          -0.000446\n",
       "2022-08-02 14:40:00-04:00  0.000336          -0.000447\n",
       "2022-08-02 14:45:00-04:00  0.000714          -0.000446\n",
       "...                             ...                ...\n",
       "2022-08-04 14:35:00-04:00 -0.000394          -0.000447\n",
       "2022-08-04 14:40:00-04:00 -0.000030          -0.000447\n",
       "2022-08-04 14:45:00-04:00  0.000545          -0.000447\n",
       "2022-08-04 14:50:00-04:00  0.000665          -0.000446\n",
       "2022-08-04 14:52:34-04:00  0.000997          -0.000447\n",
       "\n",
       "[163 rows x 2 columns]"
      ]
     },
     "execution_count": 44,
     "metadata": {},
     "output_type": "execute_result"
    }
   ],
   "source": [
    "# Show the valid and predicted prices\n",
    "valid"
   ]
  },
  {
   "cell_type": "code",
   "execution_count": 45,
   "metadata": {},
   "outputs": [
    {
     "data": {
      "image/png": "[encoded data removed]",
      "text/plain": [
       "<Figure size 1728x432 with 1 Axes>"
      ]
     },
     "metadata": {
      "needs_background": "light"
     },
     "output_type": "display_data"
    }
   ],
   "source": [
    "# Visualize the data\n",
    "plt.figure(figsize=(24,6))\n",
    "plt.title('Model')\n",
    "plt.xlabel('Date', fontsize=18)\n",
    "plt.ylabel('Close Price USD ($)', fontsize=18)\n",
    "plt.plot(train['Return'])\n",
    "plt.plot(valid[['Return', 'Return Prediction']])\n",
    "plt.legend(['Train', 'Val', 'Predictions'], loc='lower right')\n",
    "plt.show()"
   ]
  },
  {
   "cell_type": "code",
   "execution_count": null,
   "metadata": {},
   "outputs": [],
   "source": []
  }
 ],
 "metadata": {
  "kernelspec": {
   "display_name": "Python 3.9.12 ('darts')",
   "language": "python",
   "name": "python3"
  },
  "language_info": {
   "codemirror_mode": {
    "name": "ipython",
    "version": 3
   },
   "file_extension": ".py",
   "mimetype": "text/x-python",
   "name": "python",
   "nbconvert_exporter": "python",
   "pygments_lexer": "ipython3",
   "version": "3.9.12"
  },
  "orig_nbformat": 4,
  "vscode": {
   "interpreter": {
    "hash": "d0516bf3a6460159e62f81f579a83771827b52cff2673920f5da825ff9737352"
   }
  }
 },
 "nbformat": 4,
 "nbformat_minor": 2
}
